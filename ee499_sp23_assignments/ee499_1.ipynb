{
 "cells": [
  {
   "cell_type": "code",
   "execution_count": null,
   "id": "87648ce6",
   "metadata": {},
   "outputs": [],
   "source": [
    "def plot_contours(g, weight_history, view, flag3D, title):\n",
    "    weights_steps_x = np.array([i[0] for i in weight_history])\n",
    "    weights_steps_y = np.array([i[1] for i in weight_history])\n",
    "    x = y = np.arange(-4.5, 4.5, 0.05)\n",
    "    X, Y = np.meshgrid(x, y)\n",
    "    zs = np.array([g(np.array([x,y])) for x,y in zip(np.ravel(X), np.ravel(Y))])\n",
    "    Z = zs.reshape(X.shape)\n",
    "    if (flag3D):\n",
    "        fig = plt.figure(figsize=(5,5))\n",
    "        ax = fig.add_subplot(111,projection='3d')\n",
    "        ax.quiver(weights_steps_x[:-1], weights_steps_y[:-1], np.zeros(weights_steps_x[:-1].shape[0]), weights_steps_x[1:]-weights_steps_x[:-1], weights_steps_y[1:]-weights_steps_y[:-1], np.zeros(weights_steps_x[:-1].shape[0]),\\\n",
    "            color='k')\n",
    "        ax.grid(False)\n",
    "        ax.plot_surface(X, Y, Z, alpha=0.8, cmap=cm.coolwarm, linewidth=10, antialiased=False)\n",
    "        ax.view_init(view[0], view[1])\n",
    "        ax.set_xlabel(r'$w_1$')\n",
    "        ax.set_ylabel(r'$w_2$')\n",
    "        ax.set_zlabel(r'$g(w)$')\n",
    "        ax.set_title(title,fontsize=16)\n",
    "    #ax.plot([0, 0], [-4.5,4.5], [0,0])\n",
    "    fig = plt.figure(figsize=(5,5))\n",
    "    cp = plt.contourf(X, Y, Z, cmap='coolwarm')\n",
    "    plt.colorbar(cp)\n",
    "    plt.xlabel(r'$w_1$', fontsize=12)\n",
    "    plt.ylabel(r'$w_2$', fontsize=12)\n",
    "    plt.axhline(y=0, color='r', linestyle='--')\n",
    "    plt.axvline(x=0, color='r', linestyle='--')\n",
    "    plt.plot(weights_steps_x, weights_steps_y, 'sk', markersize=4)\n",
    "    plt.quiver(weights_steps_x[:-1], weights_steps_y[:-1], weights_steps_x[1:]-weights_steps_x[:-1], weights_steps_y[1:]-weights_steps_y[:-1], scale_units='xy', angles='xy', scale=1)\n",
    "    plt.plot(weights_steps_x[-1], weights_steps_y[-1], 'sy')\n",
    "    plt.title(title,fontsize=16)\n",
    "    plt.show()"
   ]
  }
 ],
 "metadata": {
  "kernelspec": {
   "display_name": "ML",
   "language": "python",
   "name": "python3"
  },
  "language_info": {
   "name": "python",
   "version": "3.9.16 (main, Jan 11 2023, 16:16:36) [MSC v.1916 64 bit (AMD64)]"
  },
  "vscode": {
   "interpreter": {
    "hash": "3e46dc693ca195f1a1a2b10e2fedde8726e9d78b90783ccbf0a5e1e46a2cabdd"
   }
  }
 },
 "nbformat": 4,
 "nbformat_minor": 5
}
